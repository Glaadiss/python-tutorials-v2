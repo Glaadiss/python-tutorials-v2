{
 "cells": [
  {
   "cell_type": "code",
   "execution_count": 1,
   "metadata": {},
   "outputs": [],
   "source": [
    "class WordFinder:\n",
    "    def __init__(self, word_list: list[str]):\n",
    "        self.word_list = word_list\n",
    "\n",
    "    def find_word(self, target_word: str):\n",
    "        for i in range(len(self.word_list)):\n",
    "            word = self.word_list[i]\n",
    "            if word == target_word:\n",
    "                return i\n",
    "            return -1\n"
   ]
  },
  {
   "cell_type": "code",
   "execution_count": 2,
   "metadata": {},
   "outputs": [],
   "source": [
    "words = [\"apple\", \"banana\", \"cherry\", \"date\", \"elderberry\", \"fig\", \"grape\"]\n",
    "finder = WordFinder(words)"
   ]
  },
  {
   "cell_type": "code",
   "execution_count": 3,
   "metadata": {},
   "outputs": [
    {
     "ename": "AssertionError",
     "evalue": "Expected 2, but got -1",
     "output_type": "error",
     "traceback": [
      "\u001b[0;31m---------------------------------------------------------------------------\u001b[0m",
      "\u001b[0;31mAssertionError\u001b[0m                            Traceback (most recent call last)",
      "Cell \u001b[0;32mIn[3], line 1\u001b[0m\n\u001b[0;32m----> 1\u001b[0m \u001b[39massert\u001b[39;00m finder\u001b[39m.\u001b[39mfind_word(\u001b[39m\"\u001b[39m\u001b[39mcherry\u001b[39m\u001b[39m\"\u001b[39m) \u001b[39m==\u001b[39m \u001b[39m2\u001b[39m, \u001b[39mf\u001b[39m\u001b[39m'\u001b[39m\u001b[39mExpected 2, but got \u001b[39m\u001b[39m{\u001b[39;00mfinder\u001b[39m.\u001b[39mfind_word(\u001b[39m\"\u001b[39m\u001b[39mcherry\u001b[39m\u001b[39m\"\u001b[39m)\u001b[39m}\u001b[39;00m\u001b[39m'\u001b[39m\n\u001b[1;32m      2\u001b[0m \u001b[39massert\u001b[39;00m finder\u001b[39m.\u001b[39mfind_word(\u001b[39m\"\u001b[39m\u001b[39mdate\u001b[39m\u001b[39m\"\u001b[39m) \u001b[39m==\u001b[39m \u001b[39m3\u001b[39m, \u001b[39mf\u001b[39m\u001b[39m'\u001b[39m\u001b[39mExpected 3, but got \u001b[39m\u001b[39m{\u001b[39;00mfinder\u001b[39m.\u001b[39mfind_word(\u001b[39m\"\u001b[39m\u001b[39mdate\u001b[39m\u001b[39m\"\u001b[39m)\u001b[39m}\u001b[39;00m\u001b[39m'\u001b[39m\n\u001b[1;32m      3\u001b[0m \u001b[39massert\u001b[39;00m finder\u001b[39m.\u001b[39mfind_word(\u001b[39m\"\u001b[39m\u001b[39mkiwi\u001b[39m\u001b[39m\"\u001b[39m) \u001b[39m==\u001b[39m \u001b[39m-\u001b[39m\u001b[39m1\u001b[39m, \u001b[39mf\u001b[39m\u001b[39m'\u001b[39m\u001b[39mExpected -1, but got \u001b[39m\u001b[39m{\u001b[39;00mfinder\u001b[39m.\u001b[39mfind_word(\u001b[39m\"\u001b[39m\u001b[39mkiwi\u001b[39m\u001b[39m\"\u001b[39m)\u001b[39m}\u001b[39;00m\u001b[39m'\u001b[39m\n",
      "\u001b[0;31mAssertionError\u001b[0m: Expected 2, but got -1"
     ]
    }
   ],
   "source": [
    "\n",
    "    assert finder.find_word(\"cherry\") == 2, f'Expected 2, but got {finder.find_word(\"cherry\")}'\n",
    "    assert finder.find_word(\"date\") == 3, f'Expected 3, but got {finder.find_word(\"date\")}'\n",
    "    assert finder.find_word(\"kiwi\") == -1, f'Expected -1, but got {finder.find_word(\"kiwi\")}'"
   ]
  },
  {
   "cell_type": "code",
   "execution_count": null,
   "metadata": {},
   "outputs": [],
   "source": []
  }
 ],
 "metadata": {
  "kernelspec": {
   "display_name": ".venv",
   "language": "python",
   "name": "python3"
  },
  "language_info": {
   "codemirror_mode": {
    "name": "ipython",
    "version": 3
   },
   "file_extension": ".py",
   "mimetype": "text/x-python",
   "name": "python",
   "nbconvert_exporter": "python",
   "pygments_lexer": "ipython3",
   "version": "3.9.18"
  },
  "orig_nbformat": 4
 },
 "nbformat": 4,
 "nbformat_minor": 2
}
